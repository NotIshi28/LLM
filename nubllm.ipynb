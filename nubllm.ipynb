{
  "nbformat": 4,
  "nbformat_minor": 0,
  "metadata": {
    "colab": {
      "provenance": [],
      "gpuType": "T4",
      "authorship_tag": "ABX9TyM+58FVHo1viBZHVxfhvJlG",
      "include_colab_link": true
    },
    "kernelspec": {
      "name": "python3",
      "display_name": "Python 3"
    },
    "language_info": {
      "name": "python"
    },
    "accelerator": "GPU"
  },
  "cells": [
    {
      "cell_type": "markdown",
      "metadata": {
        "id": "view-in-github",
        "colab_type": "text"
      },
      "source": [
        "<a href=\"https://colab.research.google.com/github/NotIshi28/LLM/blob/main/nubllm.ipynb\" target=\"_parent\"><img src=\"https://colab.research.google.com/assets/colab-badge.svg\" alt=\"Open In Colab\"/></a>"
      ]
    },
    {
      "cell_type": "code",
      "execution_count": 1,
      "metadata": {
        "colab": {
          "base_uri": "https://localhost:8080/"
        },
        "id": "GhTx9WVMPu_w",
        "outputId": "e6e7eef5-ba4e-428a-a4bc-d13db4a34358"
      },
      "outputs": [
        {
          "output_type": "stream",
          "name": "stdout",
          "text": [
            "reddit\n"
          ]
        }
      ],
      "source": [
        "print('reddit')"
      ]
    },
    {
      "cell_type": "code",
      "source": [
        "!wget https://raw.githubusercontent.com/NotIshi28/LLM/main/reddit_short_stories.txt\n",
        "!wget https://raw.githubusercontent.com/NotIshi28/LLM/main/requirements.txt\n",
        "!wget https://raw.githubusercontent.com/NotIshi28/LLM/main/supplementary.py"
      ],
      "metadata": {
        "colab": {
          "base_uri": "https://localhost:8080/"
        },
        "id": "fpQyb8mbQBnT",
        "outputId": "971de918-b728-4d86-aa98-ed8596208dd5"
      },
      "execution_count": 44,
      "outputs": [
        {
          "output_type": "stream",
          "name": "stdout",
          "text": [
            "--2024-09-06 17:54:08--  https://raw.githubusercontent.com/NotIshi28/LLM/main/reddit_short_stories.txt\n",
            "Resolving raw.githubusercontent.com (raw.githubusercontent.com)... 185.199.108.133, 185.199.111.133, 185.199.110.133, ...\n",
            "Connecting to raw.githubusercontent.com (raw.githubusercontent.com)|185.199.108.133|:443... connected.\n",
            "HTTP request sent, awaiting response... 200 OK\n",
            "Length: 408536 (399K) [text/plain]\n",
            "Saving to: ‘reddit_short_stories.txt’\n",
            "\n",
            "\rreddit_short_storie   0%[                    ]       0  --.-KB/s               \rreddit_short_storie 100%[===================>] 398.96K  --.-KB/s    in 0.03s   \n",
            "\n",
            "2024-09-06 17:54:09 (12.7 MB/s) - ‘reddit_short_stories.txt’ saved [408536/408536]\n",
            "\n"
          ]
        }
      ]
    },
    {
      "cell_type": "code",
      "source": [
        "!pip install -r requirements.txt"
      ],
      "metadata": {
        "colab": {
          "base_uri": "https://localhost:8080/"
        },
        "collapsed": true,
        "id": "R499nJ9ZQzgP",
        "outputId": "8bc092fa-a68a-4cce-cb92-12770f5b5534"
      },
      "execution_count": 32,
      "outputs": [
        {
          "output_type": "stream",
          "name": "stdout",
          "text": [
            "Requirement already satisfied: torch>=2.0.1 in /usr/local/lib/python3.10/dist-packages (from -r requirements.txt (line 1)) (2.4.0+cu121)\n",
            "Requirement already satisfied: jupyterlab>=4.0 in /usr/local/lib/python3.10/dist-packages (from -r requirements.txt (line 2)) (4.2.5)\n",
            "Requirement already satisfied: tiktoken>=0.5.1 in /usr/local/lib/python3.10/dist-packages (from -r requirements.txt (line 3)) (0.7.0)\n",
            "Requirement already satisfied: matplotlib>=3.7.1 in /usr/local/lib/python3.10/dist-packages (from -r requirements.txt (line 4)) (3.7.1)\n",
            "Requirement already satisfied: numpy>=1.24.3 in /usr/local/lib/python3.10/dist-packages (from -r requirements.txt (line 5)) (1.26.4)\n",
            "Requirement already satisfied: tensorflow>=2.15.0 in /usr/local/lib/python3.10/dist-packages (from -r requirements.txt (line 6)) (2.17.0)\n",
            "Requirement already satisfied: tqdm>=4.66.1 in /usr/local/lib/python3.10/dist-packages (from -r requirements.txt (line 7)) (4.66.5)\n",
            "Requirement already satisfied: pandas>=2.2.1 in /usr/local/lib/python3.10/dist-packages (from -r requirements.txt (line 9)) (2.2.2)\n",
            "Requirement already satisfied: psutil>=5.9.5 in /usr/local/lib/python3.10/dist-packages (from -r requirements.txt (line 10)) (5.9.5)\n",
            "Requirement already satisfied: litgpt>=0.4.1 in /usr/local/lib/python3.10/dist-packages (from litgpt[all]>=0.4.1->-r requirements.txt (line 11)) (0.4.11)\n",
            "Requirement already satisfied: filelock in /usr/local/lib/python3.10/dist-packages (from torch>=2.0.1->-r requirements.txt (line 1)) (3.15.4)\n",
            "Requirement already satisfied: typing-extensions>=4.8.0 in /usr/local/lib/python3.10/dist-packages (from torch>=2.0.1->-r requirements.txt (line 1)) (4.12.2)\n",
            "Requirement already satisfied: sympy in /usr/local/lib/python3.10/dist-packages (from torch>=2.0.1->-r requirements.txt (line 1)) (1.13.2)\n",
            "Requirement already satisfied: networkx in /usr/local/lib/python3.10/dist-packages (from torch>=2.0.1->-r requirements.txt (line 1)) (3.3)\n",
            "Requirement already satisfied: jinja2 in /usr/local/lib/python3.10/dist-packages (from torch>=2.0.1->-r requirements.txt (line 1)) (3.1.4)\n",
            "Requirement already satisfied: fsspec in /usr/local/lib/python3.10/dist-packages (from torch>=2.0.1->-r requirements.txt (line 1)) (2024.6.1)\n",
            "Requirement already satisfied: async-lru>=1.0.0 in /usr/local/lib/python3.10/dist-packages (from jupyterlab>=4.0->-r requirements.txt (line 2)) (2.0.4)\n",
            "Requirement already satisfied: httpx>=0.25.0 in /usr/local/lib/python3.10/dist-packages (from jupyterlab>=4.0->-r requirements.txt (line 2)) (0.27.2)\n",
            "Requirement already satisfied: ipykernel>=6.5.0 in /usr/local/lib/python3.10/dist-packages (from jupyterlab>=4.0->-r requirements.txt (line 2)) (6.29.5)\n",
            "Requirement already satisfied: jupyter-core in /usr/local/lib/python3.10/dist-packages (from jupyterlab>=4.0->-r requirements.txt (line 2)) (5.7.2)\n",
            "Requirement already satisfied: jupyter-lsp>=2.0.0 in /usr/local/lib/python3.10/dist-packages (from jupyterlab>=4.0->-r requirements.txt (line 2)) (2.2.5)\n",
            "Requirement already satisfied: jupyter-server<3,>=2.4.0 in /usr/local/lib/python3.10/dist-packages (from jupyterlab>=4.0->-r requirements.txt (line 2)) (2.14.2)\n",
            "Requirement already satisfied: jupyterlab-server<3,>=2.27.1 in /usr/local/lib/python3.10/dist-packages (from jupyterlab>=4.0->-r requirements.txt (line 2)) (2.27.3)\n",
            "Requirement already satisfied: notebook-shim>=0.2 in /usr/local/lib/python3.10/dist-packages (from jupyterlab>=4.0->-r requirements.txt (line 2)) (0.2.4)\n",
            "Requirement already satisfied: packaging in /usr/local/lib/python3.10/dist-packages (from jupyterlab>=4.0->-r requirements.txt (line 2)) (24.1)\n",
            "Requirement already satisfied: setuptools>=40.1.0 in /usr/local/lib/python3.10/dist-packages (from jupyterlab>=4.0->-r requirements.txt (line 2)) (71.0.4)\n",
            "Requirement already satisfied: tomli>=1.2.2 in /usr/local/lib/python3.10/dist-packages (from jupyterlab>=4.0->-r requirements.txt (line 2)) (2.0.1)\n",
            "Requirement already satisfied: tornado>=6.2.0 in /usr/local/lib/python3.10/dist-packages (from jupyterlab>=4.0->-r requirements.txt (line 2)) (6.3.3)\n",
            "Requirement already satisfied: traitlets in /usr/local/lib/python3.10/dist-packages (from jupyterlab>=4.0->-r requirements.txt (line 2)) (5.7.1)\n",
            "Requirement already satisfied: regex>=2022.1.18 in /usr/local/lib/python3.10/dist-packages (from tiktoken>=0.5.1->-r requirements.txt (line 3)) (2024.5.15)\n",
            "Requirement already satisfied: requests>=2.26.0 in /usr/local/lib/python3.10/dist-packages (from tiktoken>=0.5.1->-r requirements.txt (line 3)) (2.32.3)\n",
            "Requirement already satisfied: contourpy>=1.0.1 in /usr/local/lib/python3.10/dist-packages (from matplotlib>=3.7.1->-r requirements.txt (line 4)) (1.3.0)\n",
            "Requirement already satisfied: cycler>=0.10 in /usr/local/lib/python3.10/dist-packages (from matplotlib>=3.7.1->-r requirements.txt (line 4)) (0.12.1)\n",
            "Requirement already satisfied: fonttools>=4.22.0 in /usr/local/lib/python3.10/dist-packages (from matplotlib>=3.7.1->-r requirements.txt (line 4)) (4.53.1)\n",
            "Requirement already satisfied: kiwisolver>=1.0.1 in /usr/local/lib/python3.10/dist-packages (from matplotlib>=3.7.1->-r requirements.txt (line 4)) (1.4.5)\n",
            "Requirement already satisfied: pillow>=6.2.0 in /usr/local/lib/python3.10/dist-packages (from matplotlib>=3.7.1->-r requirements.txt (line 4)) (9.4.0)\n",
            "Requirement already satisfied: pyparsing>=2.3.1 in /usr/local/lib/python3.10/dist-packages (from matplotlib>=3.7.1->-r requirements.txt (line 4)) (3.1.4)\n",
            "Requirement already satisfied: python-dateutil>=2.7 in /usr/local/lib/python3.10/dist-packages (from matplotlib>=3.7.1->-r requirements.txt (line 4)) (2.8.2)\n",
            "Requirement already satisfied: absl-py>=1.0.0 in /usr/local/lib/python3.10/dist-packages (from tensorflow>=2.15.0->-r requirements.txt (line 6)) (1.4.0)\n",
            "Requirement already satisfied: astunparse>=1.6.0 in /usr/local/lib/python3.10/dist-packages (from tensorflow>=2.15.0->-r requirements.txt (line 6)) (1.6.3)\n",
            "Requirement already satisfied: flatbuffers>=24.3.25 in /usr/local/lib/python3.10/dist-packages (from tensorflow>=2.15.0->-r requirements.txt (line 6)) (24.3.25)\n",
            "Requirement already satisfied: gast!=0.5.0,!=0.5.1,!=0.5.2,>=0.2.1 in /usr/local/lib/python3.10/dist-packages (from tensorflow>=2.15.0->-r requirements.txt (line 6)) (0.6.0)\n",
            "Requirement already satisfied: google-pasta>=0.1.1 in /usr/local/lib/python3.10/dist-packages (from tensorflow>=2.15.0->-r requirements.txt (line 6)) (0.2.0)\n",
            "Requirement already satisfied: h5py>=3.10.0 in /usr/local/lib/python3.10/dist-packages (from tensorflow>=2.15.0->-r requirements.txt (line 6)) (3.11.0)\n",
            "Requirement already satisfied: libclang>=13.0.0 in /usr/local/lib/python3.10/dist-packages (from tensorflow>=2.15.0->-r requirements.txt (line 6)) (18.1.1)\n",
            "Requirement already satisfied: ml-dtypes<0.5.0,>=0.3.1 in /usr/local/lib/python3.10/dist-packages (from tensorflow>=2.15.0->-r requirements.txt (line 6)) (0.4.0)\n",
            "Requirement already satisfied: opt-einsum>=2.3.2 in /usr/local/lib/python3.10/dist-packages (from tensorflow>=2.15.0->-r requirements.txt (line 6)) (3.3.0)\n",
            "Requirement already satisfied: protobuf!=4.21.0,!=4.21.1,!=4.21.2,!=4.21.3,!=4.21.4,!=4.21.5,<5.0.0dev,>=3.20.3 in /usr/local/lib/python3.10/dist-packages (from tensorflow>=2.15.0->-r requirements.txt (line 6)) (3.20.3)\n",
            "Requirement already satisfied: six>=1.12.0 in /usr/local/lib/python3.10/dist-packages (from tensorflow>=2.15.0->-r requirements.txt (line 6)) (1.16.0)\n",
            "Requirement already satisfied: termcolor>=1.1.0 in /usr/local/lib/python3.10/dist-packages (from tensorflow>=2.15.0->-r requirements.txt (line 6)) (2.4.0)\n",
            "Requirement already satisfied: wrapt>=1.11.0 in /usr/local/lib/python3.10/dist-packages (from tensorflow>=2.15.0->-r requirements.txt (line 6)) (1.16.0)\n",
            "Requirement already satisfied: grpcio<2.0,>=1.24.3 in /usr/local/lib/python3.10/dist-packages (from tensorflow>=2.15.0->-r requirements.txt (line 6)) (1.64.1)\n",
            "Requirement already satisfied: tensorboard<2.18,>=2.17 in /usr/local/lib/python3.10/dist-packages (from tensorflow>=2.15.0->-r requirements.txt (line 6)) (2.17.0)\n",
            "Requirement already satisfied: keras>=3.2.0 in /usr/local/lib/python3.10/dist-packages (from tensorflow>=2.15.0->-r requirements.txt (line 6)) (3.4.1)\n",
            "Requirement already satisfied: tensorflow-io-gcs-filesystem>=0.23.1 in /usr/local/lib/python3.10/dist-packages (from tensorflow>=2.15.0->-r requirements.txt (line 6)) (0.37.1)\n",
            "Requirement already satisfied: pytz>=2020.1 in /usr/local/lib/python3.10/dist-packages (from pandas>=2.2.1->-r requirements.txt (line 9)) (2024.1)\n",
            "Requirement already satisfied: tzdata>=2022.7 in /usr/local/lib/python3.10/dist-packages (from pandas>=2.2.1->-r requirements.txt (line 9)) (2024.1)\n",
            "Requirement already satisfied: lightning==2.4.0.dev20240728 in /usr/local/lib/python3.10/dist-packages (from litgpt>=0.4.1->litgpt[all]>=0.4.1->-r requirements.txt (line 11)) (2.4.0.dev20240728)\n",
            "Requirement already satisfied: jsonargparse>=4.27.6 in /usr/local/lib/python3.10/dist-packages (from jsonargparse[signatures]>=4.27.6->litgpt>=0.4.1->litgpt[all]>=0.4.1->-r requirements.txt (line 11)) (4.32.1)\n",
            "Requirement already satisfied: huggingface-hub>=0.23.5 in /usr/local/lib/python3.10/dist-packages (from litgpt>=0.4.1->litgpt[all]>=0.4.1->-r requirements.txt (line 11)) (0.24.6)\n",
            "Requirement already satisfied: safetensors>=0.4.3 in /usr/local/lib/python3.10/dist-packages (from litgpt>=0.4.1->litgpt[all]>=0.4.1->-r requirements.txt (line 11)) (0.4.4)\n",
            "Requirement already satisfied: tokenizers>=0.15.2 in /usr/local/lib/python3.10/dist-packages (from litgpt>=0.4.1->litgpt[all]>=0.4.1->-r requirements.txt (line 11)) (0.19.1)\n",
            "Requirement already satisfied: PyYAML<8.0,>=5.4 in /usr/local/lib/python3.10/dist-packages (from lightning==2.4.0.dev20240728->litgpt>=0.4.1->litgpt[all]>=0.4.1->-r requirements.txt (line 11)) (6.0.2)\n",
            "Requirement already satisfied: lightning-utilities<2.0,>=0.10.0 in /usr/local/lib/python3.10/dist-packages (from lightning==2.4.0.dev20240728->litgpt>=0.4.1->litgpt[all]>=0.4.1->-r requirements.txt (line 11)) (0.11.7)\n",
            "Requirement already satisfied: torchmetrics<3.0,>=0.7.0 in /usr/local/lib/python3.10/dist-packages (from lightning==2.4.0.dev20240728->litgpt>=0.4.1->litgpt[all]>=0.4.1->-r requirements.txt (line 11)) (1.4.1)\n",
            "Requirement already satisfied: pytorch-lightning in /usr/local/lib/python3.10/dist-packages (from lightning==2.4.0.dev20240728->litgpt>=0.4.1->litgpt[all]>=0.4.1->-r requirements.txt (line 11)) (2.4.0)\n",
            "Requirement already satisfied: bitsandbytes==0.42.0 in /usr/local/lib/python3.10/dist-packages (from litgpt[all]>=0.4.1->-r requirements.txt (line 11)) (0.42.0)\n",
            "Requirement already satisfied: sentencepiece>=0.2.0 in /usr/local/lib/python3.10/dist-packages (from litgpt[all]>=0.4.1->-r requirements.txt (line 11)) (0.2.0)\n",
            "Requirement already satisfied: litdata==0.2.17 in /usr/local/lib/python3.10/dist-packages (from litgpt[all]>=0.4.1->-r requirements.txt (line 11)) (0.2.17)\n",
            "Requirement already satisfied: litserve>=0.1.5 in /usr/local/lib/python3.10/dist-packages (from litgpt[all]>=0.4.1->-r requirements.txt (line 11)) (0.2.2)\n",
            "Requirement already satisfied: zstandard>=0.22.0 in /usr/local/lib/python3.10/dist-packages (from litgpt[all]>=0.4.1->-r requirements.txt (line 11)) (0.23.0)\n",
            "Requirement already satisfied: pyarrow>=15.0.2 in /usr/local/lib/python3.10/dist-packages (from litgpt[all]>=0.4.1->-r requirements.txt (line 11)) (17.0.0)\n",
            "Requirement already satisfied: datasets>=2.18.0 in /usr/local/lib/python3.10/dist-packages (from litgpt[all]>=0.4.1->-r requirements.txt (line 11)) (2.21.0)\n",
            "Requirement already satisfied: transformers>=4.38.0 in /usr/local/lib/python3.10/dist-packages (from litgpt[all]>=0.4.1->-r requirements.txt (line 11)) (4.44.2)\n",
            "Requirement already satisfied: lm-eval>=0.4.2 in /usr/local/lib/python3.10/dist-packages (from litgpt[all]>=0.4.1->-r requirements.txt (line 11)) (0.4.4)\n",
            "Requirement already satisfied: scipy in /usr/local/lib/python3.10/dist-packages (from bitsandbytes==0.42.0->litgpt[all]>=0.4.1->-r requirements.txt (line 11)) (1.13.1)\n",
            "Requirement already satisfied: boto3 in /usr/local/lib/python3.10/dist-packages (from litdata==0.2.17->litgpt[all]>=0.4.1->-r requirements.txt (line 11)) (1.35.13)\n",
            "Requirement already satisfied: wheel<1.0,>=0.23.0 in /usr/local/lib/python3.10/dist-packages (from astunparse>=1.6.0->tensorflow>=2.15.0->-r requirements.txt (line 6)) (0.44.0)\n",
            "Requirement already satisfied: dill<0.3.9,>=0.3.0 in /usr/local/lib/python3.10/dist-packages (from datasets>=2.18.0->litgpt[all]>=0.4.1->-r requirements.txt (line 11)) (0.3.8)\n",
            "Requirement already satisfied: xxhash in /usr/local/lib/python3.10/dist-packages (from datasets>=2.18.0->litgpt[all]>=0.4.1->-r requirements.txt (line 11)) (3.5.0)\n",
            "Requirement already satisfied: multiprocess in /usr/local/lib/python3.10/dist-packages (from datasets>=2.18.0->litgpt[all]>=0.4.1->-r requirements.txt (line 11)) (0.70.16)\n",
            "Requirement already satisfied: aiohttp in /usr/local/lib/python3.10/dist-packages (from datasets>=2.18.0->litgpt[all]>=0.4.1->-r requirements.txt (line 11)) (3.10.5)\n",
            "Requirement already satisfied: anyio in /usr/local/lib/python3.10/dist-packages (from httpx>=0.25.0->jupyterlab>=4.0->-r requirements.txt (line 2)) (3.7.1)\n",
            "Requirement already satisfied: certifi in /usr/local/lib/python3.10/dist-packages (from httpx>=0.25.0->jupyterlab>=4.0->-r requirements.txt (line 2)) (2024.8.30)\n",
            "Requirement already satisfied: httpcore==1.* in /usr/local/lib/python3.10/dist-packages (from httpx>=0.25.0->jupyterlab>=4.0->-r requirements.txt (line 2)) (1.0.5)\n",
            "Requirement already satisfied: idna in /usr/local/lib/python3.10/dist-packages (from httpx>=0.25.0->jupyterlab>=4.0->-r requirements.txt (line 2)) (3.8)\n",
            "Requirement already satisfied: sniffio in /usr/local/lib/python3.10/dist-packages (from httpx>=0.25.0->jupyterlab>=4.0->-r requirements.txt (line 2)) (1.3.1)\n",
            "Requirement already satisfied: h11<0.15,>=0.13 in /usr/local/lib/python3.10/dist-packages (from httpcore==1.*->httpx>=0.25.0->jupyterlab>=4.0->-r requirements.txt (line 2)) (0.14.0)\n",
            "Requirement already satisfied: hf-transfer>=0.1.4 in /usr/local/lib/python3.10/dist-packages (from huggingface-hub[hf_transfer]>=0.21.0; extra == \"all\"->litgpt[all]>=0.4.1->-r requirements.txt (line 11)) (0.1.8)\n",
            "Requirement already satisfied: comm>=0.1.1 in /usr/local/lib/python3.10/dist-packages (from ipykernel>=6.5.0->jupyterlab>=4.0->-r requirements.txt (line 2)) (0.2.2)\n",
            "Requirement already satisfied: debugpy>=1.6.5 in /usr/local/lib/python3.10/dist-packages (from ipykernel>=6.5.0->jupyterlab>=4.0->-r requirements.txt (line 2)) (1.6.6)\n",
            "Requirement already satisfied: ipython>=7.23.1 in /usr/local/lib/python3.10/dist-packages (from ipykernel>=6.5.0->jupyterlab>=4.0->-r requirements.txt (line 2)) (7.34.0)\n",
            "Requirement already satisfied: jupyter-client>=6.1.12 in /usr/local/lib/python3.10/dist-packages (from ipykernel>=6.5.0->jupyterlab>=4.0->-r requirements.txt (line 2)) (8.6.2)\n",
            "Requirement already satisfied: matplotlib-inline>=0.1 in /usr/local/lib/python3.10/dist-packages (from ipykernel>=6.5.0->jupyterlab>=4.0->-r requirements.txt (line 2)) (0.1.7)\n",
            "Requirement already satisfied: nest-asyncio in /usr/local/lib/python3.10/dist-packages (from ipykernel>=6.5.0->jupyterlab>=4.0->-r requirements.txt (line 2)) (1.6.0)\n",
            "Requirement already satisfied: pyzmq>=24 in /usr/local/lib/python3.10/dist-packages (from ipykernel>=6.5.0->jupyterlab>=4.0->-r requirements.txt (line 2)) (24.0.1)\n",
            "Requirement already satisfied: MarkupSafe>=2.0 in /usr/local/lib/python3.10/dist-packages (from jinja2->torch>=2.0.1->-r requirements.txt (line 1)) (2.1.5)\n",
            "Requirement already satisfied: docstring-parser>=0.15 in /usr/local/lib/python3.10/dist-packages (from jsonargparse[signatures]>=4.27.6->litgpt>=0.4.1->litgpt[all]>=0.4.1->-r requirements.txt (line 11)) (0.16)\n",
            "Requirement already satisfied: typeshed-client>=2.1.0 in /usr/local/lib/python3.10/dist-packages (from jsonargparse[signatures]>=4.27.6->litgpt>=0.4.1->litgpt[all]>=0.4.1->-r requirements.txt (line 11)) (2.7.0)\n",
            "Requirement already satisfied: platformdirs>=2.5 in /usr/local/lib/python3.10/dist-packages (from jupyter-core->jupyterlab>=4.0->-r requirements.txt (line 2)) (4.2.2)\n",
            "Requirement already satisfied: argon2-cffi>=21.1 in /usr/local/lib/python3.10/dist-packages (from jupyter-server<3,>=2.4.0->jupyterlab>=4.0->-r requirements.txt (line 2)) (23.1.0)\n",
            "Requirement already satisfied: jupyter-events>=0.9.0 in /usr/local/lib/python3.10/dist-packages (from jupyter-server<3,>=2.4.0->jupyterlab>=4.0->-r requirements.txt (line 2)) (0.10.0)\n",
            "Requirement already satisfied: jupyter-server-terminals>=0.4.4 in /usr/local/lib/python3.10/dist-packages (from jupyter-server<3,>=2.4.0->jupyterlab>=4.0->-r requirements.txt (line 2)) (0.5.3)\n",
            "Requirement already satisfied: nbconvert>=6.4.4 in /usr/local/lib/python3.10/dist-packages (from jupyter-server<3,>=2.4.0->jupyterlab>=4.0->-r requirements.txt (line 2)) (6.5.4)\n",
            "Requirement already satisfied: nbformat>=5.3.0 in /usr/local/lib/python3.10/dist-packages (from jupyter-server<3,>=2.4.0->jupyterlab>=4.0->-r requirements.txt (line 2)) (5.10.4)\n",
            "Requirement already satisfied: overrides>=5.0 in /usr/local/lib/python3.10/dist-packages (from jupyter-server<3,>=2.4.0->jupyterlab>=4.0->-r requirements.txt (line 2)) (7.7.0)\n",
            "Requirement already satisfied: prometheus-client>=0.9 in /usr/local/lib/python3.10/dist-packages (from jupyter-server<3,>=2.4.0->jupyterlab>=4.0->-r requirements.txt (line 2)) (0.20.0)\n",
            "Requirement already satisfied: send2trash>=1.8.2 in /usr/local/lib/python3.10/dist-packages (from jupyter-server<3,>=2.4.0->jupyterlab>=4.0->-r requirements.txt (line 2)) (1.8.3)\n",
            "Requirement already satisfied: terminado>=0.8.3 in /usr/local/lib/python3.10/dist-packages (from jupyter-server<3,>=2.4.0->jupyterlab>=4.0->-r requirements.txt (line 2)) (0.18.1)\n",
            "Requirement already satisfied: websocket-client>=1.7 in /usr/local/lib/python3.10/dist-packages (from jupyter-server<3,>=2.4.0->jupyterlab>=4.0->-r requirements.txt (line 2)) (1.8.0)\n",
            "Requirement already satisfied: babel>=2.10 in /usr/local/lib/python3.10/dist-packages (from jupyterlab-server<3,>=2.27.1->jupyterlab>=4.0->-r requirements.txt (line 2)) (2.16.0)\n",
            "Requirement already satisfied: json5>=0.9.0 in /usr/local/lib/python3.10/dist-packages (from jupyterlab-server<3,>=2.27.1->jupyterlab>=4.0->-r requirements.txt (line 2)) (0.9.25)\n",
            "Requirement already satisfied: jsonschema>=4.18.0 in /usr/local/lib/python3.10/dist-packages (from jupyterlab-server<3,>=2.27.1->jupyterlab>=4.0->-r requirements.txt (line 2)) (4.23.0)\n",
            "Requirement already satisfied: rich in /usr/local/lib/python3.10/dist-packages (from keras>=3.2.0->tensorflow>=2.15.0->-r requirements.txt (line 6)) (13.8.0)\n",
            "Requirement already satisfied: namex in /usr/local/lib/python3.10/dist-packages (from keras>=3.2.0->tensorflow>=2.15.0->-r requirements.txt (line 6)) (0.0.8)\n",
            "Requirement already satisfied: optree in /usr/local/lib/python3.10/dist-packages (from keras>=3.2.0->tensorflow>=2.15.0->-r requirements.txt (line 6)) (0.12.1)\n",
            "Requirement already satisfied: fastapi>=0.100 in /usr/local/lib/python3.10/dist-packages (from litserve>=0.1.5->litgpt[all]>=0.4.1->-r requirements.txt (line 11)) (0.113.0)\n",
            "Requirement already satisfied: uvicorn>=0.29.0 in /usr/local/lib/python3.10/dist-packages (from litserve>=0.1.5->litgpt[all]>=0.4.1->-r requirements.txt (line 11)) (0.30.6)\n",
            "Requirement already satisfied: accelerate>=0.26.0 in /usr/local/lib/python3.10/dist-packages (from lm-eval>=0.4.2->litgpt[all]>=0.4.1->-r requirements.txt (line 11)) (0.33.0)\n",
            "Requirement already satisfied: evaluate in /usr/local/lib/python3.10/dist-packages (from lm-eval>=0.4.2->litgpt[all]>=0.4.1->-r requirements.txt (line 11)) (0.4.2)\n",
            "Requirement already satisfied: jsonlines in /usr/local/lib/python3.10/dist-packages (from lm-eval>=0.4.2->litgpt[all]>=0.4.1->-r requirements.txt (line 11)) (4.0.0)\n",
            "Requirement already satisfied: numexpr in /usr/local/lib/python3.10/dist-packages (from lm-eval>=0.4.2->litgpt[all]>=0.4.1->-r requirements.txt (line 11)) (2.10.1)\n",
            "Requirement already satisfied: peft>=0.2.0 in /usr/local/lib/python3.10/dist-packages (from lm-eval>=0.4.2->litgpt[all]>=0.4.1->-r requirements.txt (line 11)) (0.12.0)\n",
            "Requirement already satisfied: pybind11>=2.6.2 in /usr/local/lib/python3.10/dist-packages (from lm-eval>=0.4.2->litgpt[all]>=0.4.1->-r requirements.txt (line 11)) (2.13.5)\n",
            "Requirement already satisfied: pytablewriter in /usr/local/lib/python3.10/dist-packages (from lm-eval>=0.4.2->litgpt[all]>=0.4.1->-r requirements.txt (line 11)) (1.2.0)\n",
            "Requirement already satisfied: rouge-score>=0.0.4 in /usr/local/lib/python3.10/dist-packages (from lm-eval>=0.4.2->litgpt[all]>=0.4.1->-r requirements.txt (line 11)) (0.1.2)\n",
            "Requirement already satisfied: sacrebleu>=1.5.0 in /usr/local/lib/python3.10/dist-packages (from lm-eval>=0.4.2->litgpt[all]>=0.4.1->-r requirements.txt (line 11)) (2.4.3)\n",
            "Requirement already satisfied: scikit-learn>=0.24.1 in /usr/local/lib/python3.10/dist-packages (from lm-eval>=0.4.2->litgpt[all]>=0.4.1->-r requirements.txt (line 11)) (1.3.2)\n",
            "Requirement already satisfied: sqlitedict in /usr/local/lib/python3.10/dist-packages (from lm-eval>=0.4.2->litgpt[all]>=0.4.1->-r requirements.txt (line 11)) (2.1.0)\n",
            "Requirement already satisfied: tqdm-multiprocess in /usr/local/lib/python3.10/dist-packages (from lm-eval>=0.4.2->litgpt[all]>=0.4.1->-r requirements.txt (line 11)) (0.0.11)\n",
            "Requirement already satisfied: word2number in /usr/local/lib/python3.10/dist-packages (from lm-eval>=0.4.2->litgpt[all]>=0.4.1->-r requirements.txt (line 11)) (1.1)\n",
            "Requirement already satisfied: more-itertools in /usr/local/lib/python3.10/dist-packages (from lm-eval>=0.4.2->litgpt[all]>=0.4.1->-r requirements.txt (line 11)) (10.3.0)\n",
            "Requirement already satisfied: charset-normalizer<4,>=2 in /usr/local/lib/python3.10/dist-packages (from requests>=2.26.0->tiktoken>=0.5.1->-r requirements.txt (line 3)) (3.3.2)\n",
            "Requirement already satisfied: urllib3<3,>=1.21.1 in /usr/local/lib/python3.10/dist-packages (from requests>=2.26.0->tiktoken>=0.5.1->-r requirements.txt (line 3)) (2.0.7)\n",
            "Requirement already satisfied: markdown>=2.6.8 in /usr/local/lib/python3.10/dist-packages (from tensorboard<2.18,>=2.17->tensorflow>=2.15.0->-r requirements.txt (line 6)) (3.7)\n",
            "Requirement already satisfied: tensorboard-data-server<0.8.0,>=0.7.0 in /usr/local/lib/python3.10/dist-packages (from tensorboard<2.18,>=2.17->tensorflow>=2.15.0->-r requirements.txt (line 6)) (0.7.2)\n",
            "Requirement already satisfied: werkzeug>=1.0.1 in /usr/local/lib/python3.10/dist-packages (from tensorboard<2.18,>=2.17->tensorflow>=2.15.0->-r requirements.txt (line 6)) (3.0.4)\n",
            "Requirement already satisfied: mpmath<1.4,>=1.1.0 in /usr/local/lib/python3.10/dist-packages (from sympy->torch>=2.0.1->-r requirements.txt (line 1)) (1.3.0)\n",
            "Requirement already satisfied: exceptiongroup in /usr/local/lib/python3.10/dist-packages (from anyio->httpx>=0.25.0->jupyterlab>=4.0->-r requirements.txt (line 2)) (1.2.2)\n",
            "Requirement already satisfied: argon2-cffi-bindings in /usr/local/lib/python3.10/dist-packages (from argon2-cffi>=21.1->jupyter-server<3,>=2.4.0->jupyterlab>=4.0->-r requirements.txt (line 2)) (21.2.0)\n",
            "Requirement already satisfied: starlette<0.39.0,>=0.37.2 in /usr/local/lib/python3.10/dist-packages (from fastapi>=0.100->litserve>=0.1.5->litgpt[all]>=0.4.1->-r requirements.txt (line 11)) (0.38.4)\n",
            "Requirement already satisfied: pydantic!=1.8,!=1.8.1,!=2.0.0,!=2.0.1,!=2.1.0,<3.0.0,>=1.7.4 in /usr/local/lib/python3.10/dist-packages (from fastapi>=0.100->litserve>=0.1.5->litgpt[all]>=0.4.1->-r requirements.txt (line 11)) (2.8.2)\n",
            "Requirement already satisfied: aiohappyeyeballs>=2.3.0 in /usr/local/lib/python3.10/dist-packages (from aiohttp->datasets>=2.18.0->litgpt[all]>=0.4.1->-r requirements.txt (line 11)) (2.4.0)\n",
            "Requirement already satisfied: aiosignal>=1.1.2 in /usr/local/lib/python3.10/dist-packages (from aiohttp->datasets>=2.18.0->litgpt[all]>=0.4.1->-r requirements.txt (line 11)) (1.3.1)\n",
            "Requirement already satisfied: attrs>=17.3.0 in /usr/local/lib/python3.10/dist-packages (from aiohttp->datasets>=2.18.0->litgpt[all]>=0.4.1->-r requirements.txt (line 11)) (24.2.0)\n",
            "Requirement already satisfied: frozenlist>=1.1.1 in /usr/local/lib/python3.10/dist-packages (from aiohttp->datasets>=2.18.0->litgpt[all]>=0.4.1->-r requirements.txt (line 11)) (1.4.1)\n",
            "Requirement already satisfied: multidict<7.0,>=4.5 in /usr/local/lib/python3.10/dist-packages (from aiohttp->datasets>=2.18.0->litgpt[all]>=0.4.1->-r requirements.txt (line 11)) (6.0.5)\n",
            "Requirement already satisfied: yarl<2.0,>=1.0 in /usr/local/lib/python3.10/dist-packages (from aiohttp->datasets>=2.18.0->litgpt[all]>=0.4.1->-r requirements.txt (line 11)) (1.9.4)\n",
            "Requirement already satisfied: async-timeout<5.0,>=4.0 in /usr/local/lib/python3.10/dist-packages (from aiohttp->datasets>=2.18.0->litgpt[all]>=0.4.1->-r requirements.txt (line 11)) (4.0.3)\n",
            "Requirement already satisfied: jedi>=0.16 in /usr/local/lib/python3.10/dist-packages (from ipython>=7.23.1->ipykernel>=6.5.0->jupyterlab>=4.0->-r requirements.txt (line 2)) (0.19.1)\n",
            "Requirement already satisfied: decorator in /usr/local/lib/python3.10/dist-packages (from ipython>=7.23.1->ipykernel>=6.5.0->jupyterlab>=4.0->-r requirements.txt (line 2)) (4.4.2)\n",
            "Requirement already satisfied: pickleshare in /usr/local/lib/python3.10/dist-packages (from ipython>=7.23.1->ipykernel>=6.5.0->jupyterlab>=4.0->-r requirements.txt (line 2)) (0.7.5)\n",
            "Requirement already satisfied: prompt-toolkit!=3.0.0,!=3.0.1,<3.1.0,>=2.0.0 in /usr/local/lib/python3.10/dist-packages (from ipython>=7.23.1->ipykernel>=6.5.0->jupyterlab>=4.0->-r requirements.txt (line 2)) (3.0.47)\n",
            "Requirement already satisfied: pygments in /usr/local/lib/python3.10/dist-packages (from ipython>=7.23.1->ipykernel>=6.5.0->jupyterlab>=4.0->-r requirements.txt (line 2)) (2.16.1)\n",
            "Requirement already satisfied: backcall in /usr/local/lib/python3.10/dist-packages (from ipython>=7.23.1->ipykernel>=6.5.0->jupyterlab>=4.0->-r requirements.txt (line 2)) (0.2.0)\n",
            "Requirement already satisfied: pexpect>4.3 in /usr/local/lib/python3.10/dist-packages (from ipython>=7.23.1->ipykernel>=6.5.0->jupyterlab>=4.0->-r requirements.txt (line 2)) (4.9.0)\n",
            "Requirement already satisfied: jsonschema-specifications>=2023.03.6 in /usr/local/lib/python3.10/dist-packages (from jsonschema>=4.18.0->jupyterlab-server<3,>=2.27.1->jupyterlab>=4.0->-r requirements.txt (line 2)) (2023.12.1)\n",
            "Requirement already satisfied: referencing>=0.28.4 in /usr/local/lib/python3.10/dist-packages (from jsonschema>=4.18.0->jupyterlab-server<3,>=2.27.1->jupyterlab>=4.0->-r requirements.txt (line 2)) (0.35.1)\n",
            "Requirement already satisfied: rpds-py>=0.7.1 in /usr/local/lib/python3.10/dist-packages (from jsonschema>=4.18.0->jupyterlab-server<3,>=2.27.1->jupyterlab>=4.0->-r requirements.txt (line 2)) (0.20.0)\n",
            "Requirement already satisfied: python-json-logger>=2.0.4 in /usr/local/lib/python3.10/dist-packages (from jupyter-events>=0.9.0->jupyter-server<3,>=2.4.0->jupyterlab>=4.0->-r requirements.txt (line 2)) (2.0.7)\n",
            "Requirement already satisfied: rfc3339-validator in /usr/local/lib/python3.10/dist-packages (from jupyter-events>=0.9.0->jupyter-server<3,>=2.4.0->jupyterlab>=4.0->-r requirements.txt (line 2)) (0.1.4)\n",
            "Requirement already satisfied: rfc3986-validator>=0.1.1 in /usr/local/lib/python3.10/dist-packages (from jupyter-events>=0.9.0->jupyter-server<3,>=2.4.0->jupyterlab>=4.0->-r requirements.txt (line 2)) (0.1.1)\n",
            "Requirement already satisfied: lxml in /usr/local/lib/python3.10/dist-packages (from nbconvert>=6.4.4->jupyter-server<3,>=2.4.0->jupyterlab>=4.0->-r requirements.txt (line 2)) (4.9.4)\n",
            "Requirement already satisfied: beautifulsoup4 in /usr/local/lib/python3.10/dist-packages (from nbconvert>=6.4.4->jupyter-server<3,>=2.4.0->jupyterlab>=4.0->-r requirements.txt (line 2)) (4.12.3)\n",
            "Requirement already satisfied: bleach in /usr/local/lib/python3.10/dist-packages (from nbconvert>=6.4.4->jupyter-server<3,>=2.4.0->jupyterlab>=4.0->-r requirements.txt (line 2)) (6.1.0)\n",
            "Requirement already satisfied: defusedxml in /usr/local/lib/python3.10/dist-packages (from nbconvert>=6.4.4->jupyter-server<3,>=2.4.0->jupyterlab>=4.0->-r requirements.txt (line 2)) (0.7.1)\n",
            "Requirement already satisfied: entrypoints>=0.2.2 in /usr/local/lib/python3.10/dist-packages (from nbconvert>=6.4.4->jupyter-server<3,>=2.4.0->jupyterlab>=4.0->-r requirements.txt (line 2)) (0.4)\n",
            "Requirement already satisfied: jupyterlab-pygments in /usr/local/lib/python3.10/dist-packages (from nbconvert>=6.4.4->jupyter-server<3,>=2.4.0->jupyterlab>=4.0->-r requirements.txt (line 2)) (0.3.0)\n",
            "Requirement already satisfied: mistune<2,>=0.8.1 in /usr/local/lib/python3.10/dist-packages (from nbconvert>=6.4.4->jupyter-server<3,>=2.4.0->jupyterlab>=4.0->-r requirements.txt (line 2)) (0.8.4)\n",
            "Requirement already satisfied: nbclient>=0.5.0 in /usr/local/lib/python3.10/dist-packages (from nbconvert>=6.4.4->jupyter-server<3,>=2.4.0->jupyterlab>=4.0->-r requirements.txt (line 2)) (0.10.0)\n",
            "Requirement already satisfied: pandocfilters>=1.4.1 in /usr/local/lib/python3.10/dist-packages (from nbconvert>=6.4.4->jupyter-server<3,>=2.4.0->jupyterlab>=4.0->-r requirements.txt (line 2)) (1.5.1)\n",
            "Requirement already satisfied: tinycss2 in /usr/local/lib/python3.10/dist-packages (from nbconvert>=6.4.4->jupyter-server<3,>=2.4.0->jupyterlab>=4.0->-r requirements.txt (line 2)) (1.3.0)\n",
            "Requirement already satisfied: fastjsonschema>=2.15 in /usr/local/lib/python3.10/dist-packages (from nbformat>=5.3.0->jupyter-server<3,>=2.4.0->jupyterlab>=4.0->-r requirements.txt (line 2)) (2.20.0)\n",
            "Requirement already satisfied: nltk in /usr/local/lib/python3.10/dist-packages (from rouge-score>=0.0.4->lm-eval>=0.4.2->litgpt[all]>=0.4.1->-r requirements.txt (line 11)) (3.8.1)\n",
            "Requirement already satisfied: portalocker in /usr/local/lib/python3.10/dist-packages (from sacrebleu>=1.5.0->lm-eval>=0.4.2->litgpt[all]>=0.4.1->-r requirements.txt (line 11)) (2.10.1)\n",
            "Requirement already satisfied: tabulate>=0.8.9 in /usr/local/lib/python3.10/dist-packages (from sacrebleu>=1.5.0->lm-eval>=0.4.2->litgpt[all]>=0.4.1->-r requirements.txt (line 11)) (0.9.0)\n",
            "Requirement already satisfied: colorama in /usr/local/lib/python3.10/dist-packages (from sacrebleu>=1.5.0->lm-eval>=0.4.2->litgpt[all]>=0.4.1->-r requirements.txt (line 11)) (0.4.6)\n",
            "Requirement already satisfied: joblib>=1.1.1 in /usr/local/lib/python3.10/dist-packages (from scikit-learn>=0.24.1->lm-eval>=0.4.2->litgpt[all]>=0.4.1->-r requirements.txt (line 11)) (1.4.2)\n",
            "Requirement already satisfied: threadpoolctl>=2.0.0 in /usr/local/lib/python3.10/dist-packages (from scikit-learn>=0.24.1->lm-eval>=0.4.2->litgpt[all]>=0.4.1->-r requirements.txt (line 11)) (3.5.0)\n",
            "Requirement already satisfied: ptyprocess in /usr/local/lib/python3.10/dist-packages (from terminado>=0.8.3->jupyter-server<3,>=2.4.0->jupyterlab>=4.0->-r requirements.txt (line 2)) (0.7.0)\n",
            "Requirement already satisfied: importlib-resources>=1.4.0 in /usr/local/lib/python3.10/dist-packages (from typeshed-client>=2.1.0->jsonargparse[signatures]>=4.27.6->litgpt>=0.4.1->litgpt[all]>=0.4.1->-r requirements.txt (line 11)) (6.4.4)\n",
            "Requirement already satisfied: click>=7.0 in /usr/local/lib/python3.10/dist-packages (from uvicorn>=0.29.0->litserve>=0.1.5->litgpt[all]>=0.4.1->-r requirements.txt (line 11)) (8.1.7)\n",
            "Requirement already satisfied: botocore<1.36.0,>=1.35.13 in /usr/local/lib/python3.10/dist-packages (from boto3->litdata==0.2.17->litgpt[all]>=0.4.1->-r requirements.txt (line 11)) (1.35.13)\n",
            "Requirement already satisfied: jmespath<2.0.0,>=0.7.1 in /usr/local/lib/python3.10/dist-packages (from boto3->litdata==0.2.17->litgpt[all]>=0.4.1->-r requirements.txt (line 11)) (1.0.1)\n",
            "Requirement already satisfied: s3transfer<0.11.0,>=0.10.0 in /usr/local/lib/python3.10/dist-packages (from boto3->litdata==0.2.17->litgpt[all]>=0.4.1->-r requirements.txt (line 11)) (0.10.2)\n",
            "Requirement already satisfied: DataProperty<2,>=1.0.1 in /usr/local/lib/python3.10/dist-packages (from pytablewriter->lm-eval>=0.4.2->litgpt[all]>=0.4.1->-r requirements.txt (line 11)) (1.0.1)\n",
            "Requirement already satisfied: mbstrdecoder<2,>=1.0.0 in /usr/local/lib/python3.10/dist-packages (from pytablewriter->lm-eval>=0.4.2->litgpt[all]>=0.4.1->-r requirements.txt (line 11)) (1.1.3)\n",
            "Requirement already satisfied: pathvalidate<4,>=2.3.0 in /usr/local/lib/python3.10/dist-packages (from pytablewriter->lm-eval>=0.4.2->litgpt[all]>=0.4.1->-r requirements.txt (line 11)) (3.2.1)\n",
            "Requirement already satisfied: tabledata<2,>=1.3.1 in /usr/local/lib/python3.10/dist-packages (from pytablewriter->lm-eval>=0.4.2->litgpt[all]>=0.4.1->-r requirements.txt (line 11)) (1.3.3)\n",
            "Requirement already satisfied: tcolorpy<1,>=0.0.5 in /usr/local/lib/python3.10/dist-packages (from pytablewriter->lm-eval>=0.4.2->litgpt[all]>=0.4.1->-r requirements.txt (line 11)) (0.1.6)\n",
            "Requirement already satisfied: typepy<2,>=1.3.2 in /usr/local/lib/python3.10/dist-packages (from typepy[datetime]<2,>=1.3.2->pytablewriter->lm-eval>=0.4.2->litgpt[all]>=0.4.1->-r requirements.txt (line 11)) (1.3.2)\n",
            "Requirement already satisfied: markdown-it-py>=2.2.0 in /usr/local/lib/python3.10/dist-packages (from rich->keras>=3.2.0->tensorflow>=2.15.0->-r requirements.txt (line 6)) (3.0.0)\n",
            "Requirement already satisfied: parso<0.9.0,>=0.8.3 in /usr/local/lib/python3.10/dist-packages (from jedi>=0.16->ipython>=7.23.1->ipykernel>=6.5.0->jupyterlab>=4.0->-r requirements.txt (line 2)) (0.8.4)\n",
            "Requirement already satisfied: fqdn in /usr/local/lib/python3.10/dist-packages (from jsonschema[format-nongpl]>=4.18.0->jupyter-events>=0.9.0->jupyter-server<3,>=2.4.0->jupyterlab>=4.0->-r requirements.txt (line 2)) (1.5.1)\n",
            "Requirement already satisfied: isoduration in /usr/local/lib/python3.10/dist-packages (from jsonschema[format-nongpl]>=4.18.0->jupyter-events>=0.9.0->jupyter-server<3,>=2.4.0->jupyterlab>=4.0->-r requirements.txt (line 2)) (20.11.0)\n",
            "Requirement already satisfied: jsonpointer>1.13 in /usr/local/lib/python3.10/dist-packages (from jsonschema[format-nongpl]>=4.18.0->jupyter-events>=0.9.0->jupyter-server<3,>=2.4.0->jupyterlab>=4.0->-r requirements.txt (line 2)) (3.0.0)\n",
            "Requirement already satisfied: uri-template in /usr/local/lib/python3.10/dist-packages (from jsonschema[format-nongpl]>=4.18.0->jupyter-events>=0.9.0->jupyter-server<3,>=2.4.0->jupyterlab>=4.0->-r requirements.txt (line 2)) (1.3.0)\n",
            "Requirement already satisfied: webcolors>=24.6.0 in /usr/local/lib/python3.10/dist-packages (from jsonschema[format-nongpl]>=4.18.0->jupyter-events>=0.9.0->jupyter-server<3,>=2.4.0->jupyterlab>=4.0->-r requirements.txt (line 2)) (24.8.0)\n",
            "Requirement already satisfied: mdurl~=0.1 in /usr/local/lib/python3.10/dist-packages (from markdown-it-py>=2.2.0->rich->keras>=3.2.0->tensorflow>=2.15.0->-r requirements.txt (line 6)) (0.1.2)\n",
            "Requirement already satisfied: chardet<6,>=3.0.4 in /usr/local/lib/python3.10/dist-packages (from mbstrdecoder<2,>=1.0.0->pytablewriter->lm-eval>=0.4.2->litgpt[all]>=0.4.1->-r requirements.txt (line 11)) (5.2.0)\n",
            "Requirement already satisfied: wcwidth in /usr/local/lib/python3.10/dist-packages (from prompt-toolkit!=3.0.0,!=3.0.1,<3.1.0,>=2.0.0->ipython>=7.23.1->ipykernel>=6.5.0->jupyterlab>=4.0->-r requirements.txt (line 2)) (0.2.13)\n",
            "Requirement already satisfied: annotated-types>=0.4.0 in /usr/local/lib/python3.10/dist-packages (from pydantic!=1.8,!=1.8.1,!=2.0.0,!=2.0.1,!=2.1.0,<3.0.0,>=1.7.4->fastapi>=0.100->litserve>=0.1.5->litgpt[all]>=0.4.1->-r requirements.txt (line 11)) (0.7.0)\n",
            "Requirement already satisfied: pydantic-core==2.20.1 in /usr/local/lib/python3.10/dist-packages (from pydantic!=1.8,!=1.8.1,!=2.0.0,!=2.0.1,!=2.1.0,<3.0.0,>=1.7.4->fastapi>=0.100->litserve>=0.1.5->litgpt[all]>=0.4.1->-r requirements.txt (line 11)) (2.20.1)\n",
            "Requirement already satisfied: cffi>=1.0.1 in /usr/local/lib/python3.10/dist-packages (from argon2-cffi-bindings->argon2-cffi>=21.1->jupyter-server<3,>=2.4.0->jupyterlab>=4.0->-r requirements.txt (line 2)) (1.17.0)\n",
            "Requirement already satisfied: soupsieve>1.2 in /usr/local/lib/python3.10/dist-packages (from beautifulsoup4->nbconvert>=6.4.4->jupyter-server<3,>=2.4.0->jupyterlab>=4.0->-r requirements.txt (line 2)) (2.6)\n",
            "Requirement already satisfied: webencodings in /usr/local/lib/python3.10/dist-packages (from bleach->nbconvert>=6.4.4->jupyter-server<3,>=2.4.0->jupyterlab>=4.0->-r requirements.txt (line 2)) (0.5.1)\n",
            "Requirement already satisfied: pycparser in /usr/local/lib/python3.10/dist-packages (from cffi>=1.0.1->argon2-cffi-bindings->argon2-cffi>=21.1->jupyter-server<3,>=2.4.0->jupyterlab>=4.0->-r requirements.txt (line 2)) (2.22)\n",
            "Requirement already satisfied: arrow>=0.15.0 in /usr/local/lib/python3.10/dist-packages (from isoduration->jsonschema[format-nongpl]>=4.18.0->jupyter-events>=0.9.0->jupyter-server<3,>=2.4.0->jupyterlab>=4.0->-r requirements.txt (line 2)) (1.3.0)\n",
            "Requirement already satisfied: types-python-dateutil>=2.8.10 in /usr/local/lib/python3.10/dist-packages (from arrow>=0.15.0->isoduration->jsonschema[format-nongpl]>=4.18.0->jupyter-events>=0.9.0->jupyter-server<3,>=2.4.0->jupyterlab>=4.0->-r requirements.txt (line 2)) (2.9.0.20240906)\n"
          ]
        }
      ]
    },
    {
      "cell_type": "code",
      "source": [
        "from importlib.metadata import version\n",
        "\n",
        "pkgs = [\"matplotlib\",\n",
        "        \"numpy\",\n",
        "        \"tiktoken\",\n",
        "        \"torch\",\n",
        "       ]\n",
        "for p in pkgs:\n",
        "    print(f\"{p} version: {version(p)}\")"
      ],
      "metadata": {
        "colab": {
          "base_uri": "https://localhost:8080/"
        },
        "id": "ZiQahnwsP4J5",
        "outputId": "30170e9b-80df-4eb3-dbee-72b2345d92fe"
      },
      "execution_count": 45,
      "outputs": [
        {
          "output_type": "stream",
          "name": "stdout",
          "text": [
            "matplotlib version: 3.7.1\n",
            "numpy version: 1.26.4\n",
            "tiktoken version: 0.7.0\n",
            "torch version: 2.4.0+cu121\n"
          ]
        }
      ]
    },
    {
      "cell_type": "code",
      "source": [
        "import torch\n",
        "from supplementary import GPTModel\n",
        "\n",
        "\n",
        "GPT_CONFIG_124M = {\n",
        "    \"vocab_size\": 50257,   # Vocabulary size\n",
        "    \"context_length\": 1024, # Shortened context length (orig: 1024)\n",
        "    \"emb_dim\": 768,        # Embedding dimension\n",
        "    \"n_heads\": 12,         # Number of attention heads\n",
        "    \"n_layers\": 12,        # Number of layers\n",
        "    \"drop_rate\": 0.1,      # Dropout rate\n",
        "    \"qkv_bias\": False      # Query-key-value bias\n",
        "}\n",
        "\n",
        "torch.manual_seed(123)\n",
        "model = GPTModel(GPT_CONFIG_124M)\n",
        "model.eval();  # Disable dropout during inference"
      ],
      "metadata": {
        "id": "wQS_hQytP8XC"
      },
      "execution_count": 82,
      "outputs": []
    },
    {
      "cell_type": "code",
      "source": [
        "import tiktoken\n",
        "from supplementary import generate_text_simple\n",
        "\n",
        "\n",
        "def text_to_token_ids(text, tokenizer):\n",
        "    encoded = tokenizer.encode(text, allowed_special={'<|endoftext|>'})\n",
        "    encoded_tensor = torch.tensor(encoded).unsqueeze(0) # add batch dimension\n",
        "    return encoded_tensor\n",
        "\n",
        "def token_ids_to_text(token_ids, tokenizer):\n",
        "    flat = token_ids.squeeze(0) # remove batch dimension\n",
        "    return tokenizer.decode(flat.tolist())"
      ],
      "metadata": {
        "id": "lsezrAplP9iB"
      },
      "execution_count": 48,
      "outputs": []
    },
    {
      "cell_type": "code",
      "source": [
        "start_context = \"Every effort moves you\"\n",
        "tokenizer = tiktoken.get_encoding(\"gpt2\")\n",
        "\n",
        "token_ids = generate_text_simple(\n",
        "    model=model,\n",
        "    idx=text_to_token_ids(start_context, tokenizer),\n",
        "    max_new_tokens=10,\n",
        "    context_size=GPT_CONFIG_124M[\"context_length\"]\n",
        ")\n",
        "\n",
        "print(\"Output text:\\n\", token_ids_to_text(token_ids, tokenizer))"
      ],
      "metadata": {
        "colab": {
          "base_uri": "https://localhost:8080/"
        },
        "id": "M06K_aPWP-XY",
        "outputId": "97a4028e-8e8f-4d67-e575-37bd8f2f5dcc"
      },
      "execution_count": 49,
      "outputs": [
        {
          "output_type": "stream",
          "name": "stdout",
          "text": [
            "Output text:\n",
            " Every effort moves you rentingetic wasnم refres RexMeCHicular stren\n"
          ]
        }
      ]
    },
    {
      "cell_type": "code",
      "source": [
        "\n",
        "with open(\"reddit_short_stories.txt\", \"r\", encoding=\"utf-8\") as file:\n",
        "    text_data = file.read()"
      ],
      "metadata": {
        "id": "gn2HUhBuP_Sj"
      },
      "execution_count": 50,
      "outputs": []
    },
    {
      "cell_type": "code",
      "source": [
        "total_characters = len(text_data)\n",
        "total_tokens = len(tokenizer.encode(text_data))\n",
        "\n",
        "print(\"Characters:\", total_characters)\n",
        "print(\"Tokens:\", total_tokens)"
      ],
      "metadata": {
        "colab": {
          "base_uri": "https://localhost:8080/"
        },
        "id": "DbhdU7KPaSyp",
        "outputId": "9cf85e52-ab45-46ea-a892-75f2219e06ba"
      },
      "execution_count": 51,
      "outputs": [
        {
          "output_type": "stream",
          "name": "stdout",
          "text": [
            "Characters: 408536\n",
            "Tokens: 101686\n"
          ]
        }
      ]
    },
    {
      "cell_type": "code",
      "source": [
        "from supplementary import create_dataloader_v1\n",
        "\n",
        "\n",
        "# Train/validation ratio\n",
        "train_ratio = 0.90\n",
        "split_idx = int(train_ratio * len(text_data))\n",
        "train_data = text_data[:split_idx]\n",
        "val_data = text_data[split_idx:]\n",
        "\n",
        "\n",
        "torch.manual_seed(123)\n",
        "\n",
        "train_loader = create_dataloader_v1(\n",
        "    train_data,\n",
        "    batch_size=2,\n",
        "    max_length=1024,\n",
        "    stride=1024,\n",
        "    drop_last=True,\n",
        "    shuffle=True,\n",
        "    num_workers=0\n",
        ")\n",
        "\n",
        "val_loader = create_dataloader_v1(\n",
        "    val_data,\n",
        "    batch_size=2,\n",
        "    max_length=GPT_CONFIG_124M[\"context_length\"],\n",
        "    stride=GPT_CONFIG_124M[\"context_length\"],\n",
        "    drop_last=False,\n",
        "    shuffle=False,\n",
        "    num_workers=0\n",
        ")"
      ],
      "metadata": {
        "id": "iLmyDb2CaT6F"
      },
      "execution_count": 96,
      "outputs": []
    },
    {
      "cell_type": "code",
      "source": [
        "print(\"Train loader:\")\n",
        "for x, y in train_loader:\n",
        "    print(x.shape, y.shape)\n",
        "\n",
        "print(\"\\nValidation loader:\")\n",
        "for x, y in val_loader:\n",
        "    print(x.shape, y.shape)"
      ],
      "metadata": {
        "colab": {
          "base_uri": "https://localhost:8080/"
        },
        "collapsed": true,
        "id": "djF5N5yhaVOC",
        "outputId": "c6d45260-0ce2-47a7-de8c-fd0ebb0f4b91"
      },
      "execution_count": 97,
      "outputs": [
        {
          "output_type": "stream",
          "name": "stdout",
          "text": [
            "Train loader:\n",
            "torch.Size([2, 1024]) torch.Size([2, 1024])\n",
            "torch.Size([2, 1024]) torch.Size([2, 1024])\n",
            "torch.Size([2, 1024]) torch.Size([2, 1024])\n",
            "torch.Size([2, 1024]) torch.Size([2, 1024])\n",
            "torch.Size([2, 1024]) torch.Size([2, 1024])\n",
            "torch.Size([2, 1024]) torch.Size([2, 1024])\n",
            "torch.Size([2, 1024]) torch.Size([2, 1024])\n",
            "torch.Size([2, 1024]) torch.Size([2, 1024])\n",
            "torch.Size([2, 1024]) torch.Size([2, 1024])\n",
            "torch.Size([2, 1024]) torch.Size([2, 1024])\n",
            "torch.Size([2, 1024]) torch.Size([2, 1024])\n",
            "torch.Size([2, 1024]) torch.Size([2, 1024])\n",
            "torch.Size([2, 1024]) torch.Size([2, 1024])\n",
            "torch.Size([2, 1024]) torch.Size([2, 1024])\n",
            "torch.Size([2, 1024]) torch.Size([2, 1024])\n",
            "torch.Size([2, 1024]) torch.Size([2, 1024])\n",
            "torch.Size([2, 1024]) torch.Size([2, 1024])\n",
            "torch.Size([2, 1024]) torch.Size([2, 1024])\n",
            "torch.Size([2, 1024]) torch.Size([2, 1024])\n",
            "torch.Size([2, 1024]) torch.Size([2, 1024])\n",
            "torch.Size([2, 1024]) torch.Size([2, 1024])\n",
            "torch.Size([2, 1024]) torch.Size([2, 1024])\n",
            "torch.Size([2, 1024]) torch.Size([2, 1024])\n",
            "torch.Size([2, 1024]) torch.Size([2, 1024])\n",
            "torch.Size([2, 1024]) torch.Size([2, 1024])\n",
            "torch.Size([2, 1024]) torch.Size([2, 1024])\n",
            "torch.Size([2, 1024]) torch.Size([2, 1024])\n",
            "torch.Size([2, 1024]) torch.Size([2, 1024])\n",
            "torch.Size([2, 1024]) torch.Size([2, 1024])\n",
            "torch.Size([2, 1024]) torch.Size([2, 1024])\n",
            "torch.Size([2, 1024]) torch.Size([2, 1024])\n",
            "torch.Size([2, 1024]) torch.Size([2, 1024])\n",
            "torch.Size([2, 1024]) torch.Size([2, 1024])\n",
            "torch.Size([2, 1024]) torch.Size([2, 1024])\n",
            "torch.Size([2, 1024]) torch.Size([2, 1024])\n",
            "torch.Size([2, 1024]) torch.Size([2, 1024])\n",
            "torch.Size([2, 1024]) torch.Size([2, 1024])\n",
            "torch.Size([2, 1024]) torch.Size([2, 1024])\n",
            "torch.Size([2, 1024]) torch.Size([2, 1024])\n",
            "torch.Size([2, 1024]) torch.Size([2, 1024])\n",
            "torch.Size([2, 1024]) torch.Size([2, 1024])\n",
            "torch.Size([2, 1024]) torch.Size([2, 1024])\n",
            "torch.Size([2, 1024]) torch.Size([2, 1024])\n",
            "torch.Size([2, 1024]) torch.Size([2, 1024])\n",
            "\n",
            "Validation loader:\n",
            "torch.Size([2, 1024]) torch.Size([2, 1024])\n",
            "torch.Size([2, 1024]) torch.Size([2, 1024])\n",
            "torch.Size([2, 1024]) torch.Size([2, 1024])\n",
            "torch.Size([2, 1024]) torch.Size([2, 1024])\n",
            "torch.Size([2, 1024]) torch.Size([2, 1024])\n"
          ]
        }
      ]
    },
    {
      "cell_type": "code",
      "source": [
        "train_tokens = 0\n",
        "for input_batch, target_batch in train_loader:\n",
        "    train_tokens += input_batch.numel()\n",
        "\n",
        "val_tokens = 0\n",
        "for input_batch, target_batch in val_loader:\n",
        "    val_tokens += input_batch.numel()\n",
        "\n",
        "print(\"Training tokens:\", train_tokens)\n",
        "print(\"Validation tokens:\", val_tokens)\n",
        "print(\"All tokens:\", train_tokens + val_tokens)"
      ],
      "metadata": {
        "colab": {
          "base_uri": "https://localhost:8080/"
        },
        "id": "LyF3wtKXaWB9",
        "outputId": "30709279-f776-4495-e363-cb18d829596f"
      },
      "execution_count": 98,
      "outputs": [
        {
          "output_type": "stream",
          "name": "stdout",
          "text": [
            "Training tokens: 90112\n",
            "Validation tokens: 10240\n",
            "All tokens: 100352\n"
          ]
        }
      ]
    },
    {
      "cell_type": "code",
      "source": [
        "from supplementary import calc_loss_loader\n",
        "\n",
        "\n",
        "device = torch.device(\"cuda\" if torch.cuda.is_available() else \"cpu\")\n",
        "model.to(device) # no assignment model = model.to(device) necessary for nn.Module classes\n",
        "\n",
        "\n",
        "torch.manual_seed(123) # For reproducibility due to the shuffling in the data loader\n",
        "\n",
        "with torch.no_grad(): # Disable gradient tracking for efficiency because we are not training, yet\n",
        "    train_loss = calc_loss_loader(train_loader, model, device)\n",
        "    val_loss = calc_loss_loader(val_loader, model, device)\n",
        "\n",
        "print(\"Training loss:\", train_loss)\n",
        "print(\"Validation loss:\", val_loss)"
      ],
      "metadata": {
        "colab": {
          "base_uri": "https://localhost:8080/"
        },
        "id": "rKNCcFPUaW2g",
        "outputId": "0b55bda2-d3d2-4391-fcf8-33dd7f6a3a36"
      },
      "execution_count": 99,
      "outputs": [
        {
          "output_type": "stream",
          "name": "stdout",
          "text": [
            "Training loss: 2.405170278115706\n",
            "Validation loss: 7.221398544311524\n"
          ]
        }
      ]
    },
    {
      "cell_type": "code",
      "source": [
        "from supplementary import (\n",
        "    calc_loss_batch,\n",
        "    evaluate_model,\n",
        "    generate_and_print_sample\n",
        ")\n",
        "\n",
        "\n",
        "def train_model_simple(model, train_loader, val_loader, optimizer, device, num_epochs,\n",
        "                       eval_freq, eval_iter, start_context, tokenizer):\n",
        "    # Initialize lists to track losses and tokens seen\n",
        "    train_losses, val_losses, track_tokens_seen = [], [], []\n",
        "    tokens_seen, global_step = 0, -1\n",
        "\n",
        "    # Main training loop\n",
        "    for epoch in range(num_epochs):\n",
        "        model.train()  # Set model to training mode\n",
        "\n",
        "        for input_batch, target_batch in train_loader:\n",
        "            optimizer.zero_grad() # Reset loss gradients from previous batch iteration\n",
        "            loss = calc_loss_batch(input_batch, target_batch, model, device)\n",
        "            loss.backward() # Calculate loss gradients\n",
        "            optimizer.step() # Update model weights using loss gradients\n",
        "            tokens_seen += input_batch.numel()\n",
        "            global_step += 1\n",
        "\n",
        "            # Optional evaluation step\n",
        "            if global_step % eval_freq == 0:\n",
        "                train_loss, val_loss = evaluate_model(\n",
        "                    model, train_loader, val_loader, device, eval_iter)\n",
        "                train_losses.append(train_loss)\n",
        "                val_losses.append(val_loss)\n",
        "                track_tokens_seen.append(tokens_seen)\n",
        "                print(f\"Ep {epoch+1} (Step {global_step:06d}): \"\n",
        "                      f\"Train loss {train_loss:.3f}, Val loss {val_loss:.3f}\")\n",
        "\n",
        "        # Print a sample text after each epoch\n",
        "        generate_and_print_sample(\n",
        "            model, tokenizer, device, start_context\n",
        "        )\n",
        "\n",
        "    return train_losses, val_losses, track_tokens_seen"
      ],
      "metadata": {
        "id": "nRiU1uAsaXq_"
      },
      "execution_count": 100,
      "outputs": []
    },
    {
      "cell_type": "code",
      "source": [
        "torch.manual_seed(123)\n",
        "model = GPTModel(GPT_CONFIG_124M)\n",
        "model.to(device)\n",
        "optimizer = torch.optim.AdamW(model.parameters(), lr=0.0004, weight_decay=0.1)\n",
        "\n",
        "num_epochs = 10\n",
        "train_losses, val_losses, tokens_seen = train_model_simple(\n",
        "    model, train_loader, val_loader, optimizer, device,\n",
        "    num_epochs=num_epochs, eval_freq=5, eval_iter=5,\n",
        "    start_context=\"A coincidence is always possible\", tokenizer=tokenizer\n",
        ")"
      ],
      "metadata": {
        "colab": {
          "base_uri": "https://localhost:8080/"
        },
        "id": "PJRqLZT7aYcK",
        "outputId": "cd64911b-587f-4120-b4c9-c8bb03101f84"
      },
      "execution_count": 90,
      "outputs": [
        {
          "output_type": "stream",
          "name": "stdout",
          "text": [
            "Ep 1 (Step 000000): Train loss 9.691, Val loss 9.732\n",
            "Ep 1 (Step 000005): Train loss 8.067, Val loss 8.172\n",
            "Ep 1 (Step 000010): Train loss 7.370, Val loss 7.311\n",
            "Ep 1 (Step 000015): Train loss 6.821, Val loss 6.992\n",
            "Ep 1 (Step 000020): Train loss 6.879, Val loss 6.925\n",
            "Ep 1 (Step 000025): Train loss 6.562, Val loss 6.861\n",
            "Ep 1 (Step 000030): Train loss 6.216, Val loss 6.758\n",
            "Ep 1 (Step 000035): Train loss 6.386, Val loss 6.667\n",
            "Ep 1 (Step 000040): Train loss 6.351, Val loss 6.605\n",
            "Ep 1 (Step 000045): Train loss 6.296, Val loss 6.586\n",
            "Ep 1 (Step 000050): Train loss 6.262, Val loss 6.562\n",
            "Ep 1 (Step 000055): Train loss 6.126, Val loss 6.551\n",
            "Ep 1 (Step 000060): Train loss 6.298, Val loss 6.465\n",
            "Ep 1 (Step 000065): Train loss 5.990, Val loss 6.413\n",
            "Ep 1 (Step 000070): Train loss 6.047, Val loss 6.365\n",
            "Ep 1 (Step 000075): Train loss 5.933, Val loss 6.314\n",
            "Ep 1 (Step 000080): Train loss 5.897, Val loss 6.310\n",
            "Ep 1 (Step 000085): Train loss 6.134, Val loss 6.282\n",
            "A coincidence is always possible <nl> \"It was a little. <nl> \"It. <nl> \"It was a little. <nl> \"It't a little. <nl> \"It's. <nl> \"It/L. <nl\n",
            "Ep 2 (Step 000090): Train loss 5.685, Val loss 6.266\n",
            "Ep 2 (Step 000095): Train loss 5.660, Val loss 6.251\n",
            "Ep 2 (Step 000100): Train loss 5.664, Val loss 6.236\n",
            "Ep 2 (Step 000105): Train loss 5.660, Val loss 6.217\n",
            "Ep 2 (Step 000110): Train loss 5.800, Val loss 6.230\n",
            "Ep 2 (Step 000115): Train loss 5.649, Val loss 6.207\n",
            "Ep 2 (Step 000120): Train loss 5.755, Val loss 6.226\n",
            "Ep 2 (Step 000125): Train loss 5.625, Val loss 6.156\n",
            "Ep 2 (Step 000130): Train loss 5.765, Val loss 6.186\n",
            "Ep 2 (Step 000135): Train loss 5.795, Val loss 6.147\n",
            "Ep 2 (Step 000140): Train loss 5.575, Val loss 6.191\n",
            "Ep 2 (Step 000145): Train loss 5.384, Val loss 6.141\n",
            "Ep 2 (Step 000150): Train loss 5.450, Val loss 6.146\n",
            "Ep 2 (Step 000155): Train loss 5.385, Val loss 6.165\n",
            "Ep 2 (Step 000160): Train loss 5.396, Val loss 6.120\n",
            "Ep 2 (Step 000165): Train loss 5.504, Val loss 6.090\n",
            "Ep 2 (Step 000170): Train loss 5.308, Val loss 6.097\n",
            "Ep 2 (Step 000175): Train loss 5.437, Val loss 6.017\n",
            "A coincidence is always possible. <nl> \"I'm just to get to get to get. <nl> \"I'm just just to get. <nl> \"I'm just to get to get I'm just just you're just just just to get to get\n",
            "Ep 3 (Step 000180): Train loss 5.304, Val loss 6.015\n",
            "Ep 3 (Step 000185): Train loss 5.197, Val loss 6.013\n",
            "Ep 3 (Step 000190): Train loss 5.443, Val loss 6.127\n",
            "Ep 3 (Step 000195): Train loss 5.358, Val loss 6.155\n",
            "Ep 3 (Step 000200): Train loss 5.259, Val loss 6.113\n",
            "Ep 3 (Step 000205): Train loss 5.018, Val loss 6.051\n",
            "Ep 3 (Step 000210): Train loss 5.165, Val loss 6.054\n",
            "Ep 3 (Step 000215): Train loss 5.263, Val loss 6.051\n",
            "Ep 3 (Step 000220): Train loss 5.024, Val loss 6.019\n",
            "Ep 3 (Step 000225): Train loss 5.168, Val loss 6.027\n",
            "Ep 3 (Step 000230): Train loss 5.146, Val loss 6.037\n",
            "Ep 3 (Step 000235): Train loss 5.316, Val loss 6.018\n",
            "Ep 3 (Step 000240): Train loss 5.162, Val loss 5.991\n",
            "Ep 3 (Step 000245): Train loss 5.121, Val loss 5.981\n",
            "Ep 3 (Step 000250): Train loss 5.069, Val loss 6.072\n",
            "Ep 3 (Step 000255): Train loss 4.965, Val loss 6.076\n",
            "Ep 3 (Step 000260): Train loss 4.662, Val loss 6.054\n",
            "Ep 3 (Step 000265): Train loss 4.941, Val loss 6.024\n",
            "A coincidence is always possible. <nl> \"You have a little, I was a little, I was a little, I was a little, I was a little, I was a little. I was a little. <nl> \"You have been a little,\n",
            "Ep 4 (Step 000270): Train loss 4.910, Val loss 6.026\n",
            "Ep 4 (Step 000275): Train loss 5.054, Val loss 6.073\n",
            "Ep 4 (Step 000280): Train loss 4.763, Val loss 6.030\n",
            "Ep 4 (Step 000285): Train loss 4.832, Val loss 6.055\n",
            "Ep 4 (Step 000290): Train loss 4.600, Val loss 6.014\n",
            "Ep 4 (Step 000295): Train loss 4.795, Val loss 5.990\n",
            "Ep 4 (Step 000300): Train loss 4.749, Val loss 5.978\n",
            "Ep 4 (Step 000305): Train loss 4.495, Val loss 6.001\n",
            "Ep 4 (Step 000310): Train loss 4.620, Val loss 5.977\n",
            "Ep 4 (Step 000315): Train loss 4.544, Val loss 5.977\n",
            "Ep 4 (Step 000320): Train loss 4.739, Val loss 5.999\n",
            "Ep 4 (Step 000325): Train loss 4.657, Val loss 6.013\n",
            "Ep 4 (Step 000330): Train loss 4.449, Val loss 5.989\n",
            "Ep 4 (Step 000335): Train loss 4.535, Val loss 5.975\n",
            "Ep 4 (Step 000340): Train loss 4.471, Val loss 5.959\n",
            "Ep 4 (Step 000345): Train loss 4.256, Val loss 5.945\n",
            "Ep 4 (Step 000350): Train loss 4.338, Val loss 5.975\n",
            "Ep 4 (Step 000355): Train loss 4.490, Val loss 5.936\n",
            "A coincidence is always possible. <nl> \"I'll be the door. <nl> \"I'll be the door. <nl> \"I'm not be the door. <nl> \"I'm going to the door. <nl> \"I'm going\n",
            "Ep 5 (Step 000360): Train loss 4.482, Val loss 6.003\n",
            "Ep 5 (Step 000365): Train loss 4.331, Val loss 6.024\n",
            "Ep 5 (Step 000370): Train loss 4.216, Val loss 6.002\n",
            "Ep 5 (Step 000375): Train loss 4.041, Val loss 5.993\n",
            "Ep 5 (Step 000380): Train loss 4.234, Val loss 6.038\n",
            "Ep 5 (Step 000385): Train loss 3.967, Val loss 6.054\n",
            "Ep 5 (Step 000390): Train loss 4.225, Val loss 6.001\n",
            "Ep 5 (Step 000395): Train loss 3.940, Val loss 6.007\n",
            "Ep 5 (Step 000400): Train loss 4.172, Val loss 5.989\n",
            "Ep 5 (Step 000405): Train loss 3.854, Val loss 5.978\n",
            "Ep 5 (Step 000410): Train loss 3.955, Val loss 5.978\n",
            "Ep 5 (Step 000415): Train loss 4.045, Val loss 5.987\n",
            "Ep 5 (Step 000420): Train loss 3.845, Val loss 5.979\n",
            "Ep 5 (Step 000425): Train loss 3.703, Val loss 5.974\n",
            "Ep 5 (Step 000430): Train loss 3.761, Val loss 5.999\n",
            "Ep 5 (Step 000435): Train loss 3.622, Val loss 5.965\n",
            "Ep 5 (Step 000440): Train loss 3.705, Val loss 5.978\n",
            "A coincidence is always possible, but it's not know the same. <nl> \"You know what you, but the is the table, and the!\" <nl> \"You know that's eyes, and the door, and the door, and the's house.\n",
            "Ep 6 (Step 000445): Train loss 3.580, Val loss 5.982\n",
            "Ep 6 (Step 000450): Train loss 3.614, Val loss 6.009\n",
            "Ep 6 (Step 000455): Train loss 3.381, Val loss 6.013\n",
            "Ep 6 (Step 000460): Train loss 3.426, Val loss 6.020\n",
            "Ep 6 (Step 000465): Train loss 3.713, Val loss 6.033\n",
            "Ep 6 (Step 000470): Train loss 3.252, Val loss 6.031\n",
            "Ep 6 (Step 000475): Train loss 3.485, Val loss 6.093\n",
            "Ep 6 (Step 000480): Train loss 3.316, Val loss 6.122\n",
            "Ep 6 (Step 000485): Train loss 3.358, Val loss 6.154\n",
            "Ep 6 (Step 000490): Train loss 3.207, Val loss 6.160\n",
            "Ep 6 (Step 000495): Train loss 2.987, Val loss 6.126\n",
            "Ep 6 (Step 000500): Train loss 2.825, Val loss 6.125\n",
            "Ep 6 (Step 000505): Train loss 3.138, Val loss 6.085\n",
            "Ep 6 (Step 000510): Train loss 3.009, Val loss 6.104\n",
            "Ep 6 (Step 000515): Train loss 2.895, Val loss 6.100\n",
            "Ep 6 (Step 000520): Train loss 2.994, Val loss 6.112\n",
            "Ep 6 (Step 000525): Train loss 2.958, Val loss 6.181\n",
            "Ep 6 (Step 000530): Train loss 2.961, Val loss 6.215\n",
            "A coincidence is always possible, but I was it was about it was about, but I was about it was about it. I'd been home, but it was going to my head, but I'd seen it was just as I was about it was about it was just\n",
            "Ep 7 (Step 000535): Train loss 2.765, Val loss 6.206\n",
            "Ep 7 (Step 000540): Train loss 2.635, Val loss 6.178\n",
            "Ep 7 (Step 000545): Train loss 2.663, Val loss 6.241\n",
            "Ep 7 (Step 000550): Train loss 2.500, Val loss 6.240\n",
            "Ep 7 (Step 000555): Train loss 2.481, Val loss 6.265\n",
            "Ep 7 (Step 000560): Train loss 2.388, Val loss 6.254\n",
            "Ep 7 (Step 000565): Train loss 2.372, Val loss 6.250\n",
            "Ep 7 (Step 000570): Train loss 2.072, Val loss 6.290\n",
            "Ep 7 (Step 000575): Train loss 2.360, Val loss 6.283\n",
            "Ep 7 (Step 000580): Train loss 2.466, Val loss 6.262\n",
            "Ep 7 (Step 000585): Train loss 2.052, Val loss 6.292\n",
            "Ep 7 (Step 000590): Train loss 2.053, Val loss 6.334\n",
            "Ep 7 (Step 000595): Train loss 2.485, Val loss 6.359\n",
            "Ep 7 (Step 000600): Train loss 2.116, Val loss 6.335\n",
            "Ep 7 (Step 000605): Train loss 2.082, Val loss 6.356\n",
            "Ep 7 (Step 000610): Train loss 1.860, Val loss 6.350\n",
            "Ep 7 (Step 000615): Train loss 1.908, Val loss 6.322\n",
            "Ep 7 (Step 000620): Train loss 1.998, Val loss 6.365\n",
            "A coincidence is always possible to me.\" <nl> \"No... at me, and have a set of course, and stared at me,\" I asked. I was a smile. I was a bit. I told him. I'd still. I'd have to be\n",
            "Ep 8 (Step 000625): Train loss 1.833, Val loss 6.406\n",
            "Ep 8 (Step 000630): Train loss 1.822, Val loss 6.442\n",
            "Ep 8 (Step 000635): Train loss 1.700, Val loss 6.472\n",
            "Ep 8 (Step 000640): Train loss 1.451, Val loss 6.465\n",
            "Ep 8 (Step 000645): Train loss 1.526, Val loss 6.527\n",
            "Ep 8 (Step 000650): Train loss 1.647, Val loss 6.566\n",
            "Ep 8 (Step 000655): Train loss 1.561, Val loss 6.499\n",
            "Ep 8 (Step 000660): Train loss 1.414, Val loss 6.575\n",
            "Ep 8 (Step 000665): Train loss 1.489, Val loss 6.582\n",
            "Ep 8 (Step 000670): Train loss 1.362, Val loss 6.592\n",
            "Ep 8 (Step 000675): Train loss 1.453, Val loss 6.571\n",
            "Ep 8 (Step 000680): Train loss 1.475, Val loss 6.677\n",
            "Ep 8 (Step 000685): Train loss 1.441, Val loss 6.587\n",
            "Ep 8 (Step 000690): Train loss 1.221, Val loss 6.607\n",
            "Ep 8 (Step 000695): Train loss 1.335, Val loss 6.603\n",
            "Ep 8 (Step 000700): Train loss 1.141, Val loss 6.616\n",
            "Ep 8 (Step 000705): Train loss 1.339, Val loss 6.624\n",
            "Ep 8 (Step 000710): Train loss 1.161, Val loss 6.627\n",
            "A coincidence is always possible to me.\" <nl> The same time that Merlin is all the table furiously. <nl> \"All right,\" I said, as soon as beautiful and stroked Mr. <nl> \"You're going on /r/Luna_\n",
            "Ep 9 (Step 000715): Train loss 1.115, Val loss 6.675\n",
            "Ep 9 (Step 000720): Train loss 0.939, Val loss 6.739\n",
            "Ep 9 (Step 000725): Train loss 0.923, Val loss 6.683\n",
            "Ep 9 (Step 000730): Train loss 1.000, Val loss 6.787\n",
            "Ep 9 (Step 000735): Train loss 0.794, Val loss 6.806\n",
            "Ep 9 (Step 000740): Train loss 0.949, Val loss 6.794\n",
            "Ep 9 (Step 000745): Train loss 0.905, Val loss 6.832\n",
            "Ep 9 (Step 000750): Train loss 0.868, Val loss 6.885\n",
            "Ep 9 (Step 000755): Train loss 0.903, Val loss 6.914\n",
            "Ep 9 (Step 000760): Train loss 0.604, Val loss 6.903\n",
            "Ep 9 (Step 000765): Train loss 0.653, Val loss 6.910\n",
            "Ep 9 (Step 000770): Train loss 0.998, Val loss 6.961\n",
            "Ep 9 (Step 000775): Train loss 0.792, Val loss 6.979\n",
            "Ep 9 (Step 000780): Train loss 0.542, Val loss 6.966\n",
            "Ep 9 (Step 000785): Train loss 0.740, Val loss 6.935\n",
            "Ep 9 (Step 000790): Train loss 0.571, Val loss 6.924\n",
            "Ep 9 (Step 000795): Train loss 0.596, Val loss 6.891\n",
            "Ep 9 (Step 000800): Train loss 0.613, Val loss 6.944\n",
            "A coincidence is always possible, and he saw no Kingdom of humour, sweet nicotine, and relief flooded through my muscles. \"You raised him good, Lars, you raised her. \"You know... gotta try to work on that you're *nailed* <nl>\n",
            "Ep 10 (Step 000805): Train loss 0.642, Val loss 7.038\n",
            "Ep 10 (Step 000810): Train loss 0.615, Val loss 7.054\n",
            "Ep 10 (Step 000815): Train loss 0.612, Val loss 7.074\n",
            "Ep 10 (Step 000820): Train loss 0.379, Val loss 7.125\n",
            "Ep 10 (Step 000825): Train loss 0.498, Val loss 7.064\n",
            "Ep 10 (Step 000830): Train loss 0.455, Val loss 7.154\n",
            "Ep 10 (Step 000835): Train loss 0.496, Val loss 7.150\n",
            "Ep 10 (Step 000840): Train loss 0.468, Val loss 7.162\n",
            "Ep 10 (Step 000845): Train loss 0.449, Val loss 7.142\n",
            "Ep 10 (Step 000850): Train loss 0.322, Val loss 7.178\n",
            "Ep 10 (Step 000855): Train loss 0.398, Val loss 7.259\n",
            "Ep 10 (Step 000860): Train loss 0.502, Val loss 7.171\n",
            "Ep 10 (Step 000865): Train loss 0.481, Val loss 7.208\n",
            "Ep 10 (Step 000870): Train loss 0.419, Val loss 7.181\n",
            "Ep 10 (Step 000875): Train loss 0.342, Val loss 7.192\n",
            "Ep 10 (Step 000880): Train loss 0.432, Val loss 7.198\n",
            "Ep 10 (Step 000885): Train loss 0.323, Val loss 7.213\n",
            "A coincidence is always possible, necks or backs, she will then do what I do, the different species of his newly realised. <nl> ------- <nl> \"You know,\" I this one,\" I told him. \"I'll just need you.\" <nl>\n"
          ]
        }
      ]
    },
    {
      "cell_type": "code",
      "source": [
        "torch.save(model.state_dict(), \"model.pth\")"
      ],
      "metadata": {
        "id": "K-b02PppacoD"
      },
      "execution_count": 91,
      "outputs": []
    },
    {
      "cell_type": "code",
      "source": [
        "from supplementary import plot_losses\n",
        "\n",
        "\n",
        "epochs_tensor = torch.linspace(0, num_epochs, len(train_losses))\n",
        "plot_losses(epochs_tensor, tokens_seen, train_losses, val_losses)"
      ],
      "metadata": {
        "colab": {
          "base_uri": "https://localhost:8080/",
          "height": 307
        },
        "id": "yAsPtpYAadVR",
        "outputId": "62a491b3-420b-40f7-c773-f6a41eaa4005"
      },
      "execution_count": 92,
      "outputs": [
        {
          "output_type": "display_data",
          "data": {
            "text/plain": [
              "<Figure size 500x300 with 2 Axes>"
            ],
            "image/png": "[encoded data removed]"
          },
          "metadata": {}
        }
      ]
    },
    {
      "cell_type": "code",
      "source": [
        "import torch\n",
        "\n",
        "# Imports from a local file\n",
        "from supplementary import GPTModel\n",
        "\n",
        "\n",
        "model = GPTModel(GPT_CONFIG_124M)\n",
        "device = torch.device(\"cuda\" if torch.cuda.is_available() else \"cpu\")\n",
        "model.load_state_dict(torch.load(\"model.pth\", map_location=device, weights_only=True))\n",
        "model.eval();"
      ],
      "metadata": {
        "id": "qEUD1-mjjtZy"
      },
      "execution_count": 93,
      "outputs": []
    },
    {
      "cell_type": "code",
      "source": [
        "from supplementary import generate_text_simple\n",
        "start_context =  input()\n",
        "tokenizer = tiktoken.get_encoding(\"gpt2\")\n",
        "\n",
        "\n",
        "device = torch.device(\"cuda\")\n",
        "\n",
        "token_ids = generate_text_simple(\n",
        "    model=model,\n",
        "    idx=text_to_token_ids(start_context, tokenizer).to(device),\n",
        "    max_new_tokens=10,\n",
        "    context_size=GPT_CONFIG_124M[\"context_length\"]\n",
        ")\n",
        "print(\"Output text:\\n\", token_ids_to_text(token_ids, tokenizer))"
      ],
      "metadata": {
        "colab": {
          "base_uri": "https://localhost:8080/"
        },
        "id": "B2eIGrgYkEmB",
        "outputId": "08f5d7c3-7abb-4fc8-8950-1a2ec344d948"
      },
      "execution_count": 103,
      "outputs": [
        {
          "output_type": "stream",
          "name": "stdout",
          "text": [
            "i saw something in the night sky that\n",
            "Output text:\n",
            " i saw something in the night sky that had been evacuated to begin with sweet nicotine, and\n"
          ]
        }
      ]
    }
  ]
}